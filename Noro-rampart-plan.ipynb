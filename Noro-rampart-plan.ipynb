{
 "cells": [
  {
   "cell_type": "markdown",
   "metadata": {},
   "source": [
    "**Table of Contents**\n",
    "<div id=\"toc\"></div>"
   ]
  },
  {
   "cell_type": "code",
   "execution_count": 100,
   "metadata": {},
   "outputs": [],
   "source": [
    "import random\n",
    "from Bio import Entrez\n",
    "from Bio import SeqIO\n",
    "from Bio import GenBank\n",
    "import collections\n",
    "import re\n",
    "import datetime\n",
    "import dateutil.parser\n",
    "from Bio.Seq import Seq\n",
    "from Bio.Alphabet import IUPAC\n",
    "from Bio import AlignIO\n",
    "Entrez.email = \"aine.otoole@ed.ac.uk\"\n",
    "from ete3 import Tree"
   ]
  },
  {
   "cell_type": "markdown",
   "metadata": {},
   "source": [
    "# Ref Alignment Production"
   ]
  },
  {
   "cell_type": "code",
   "execution_count": 133,
   "metadata": {},
   "outputs": [],
   "source": [
    "def sort_out_match_format(k):\n",
    "    \"\"\"Regex match (of various formats found on genbank) to genotype, \\\n",
    "    standardize formatting to GPx.xx_Gx.xx or Gx.xx\"\"\"\n",
    "#     print k\n",
    "    pol = ''\n",
    "    cap = ''\n",
    "    for i in ['_','/','-']:\n",
    "        if i in k and 'P' in k:\n",
    "            j= k.split(i)\n",
    "            for item in j:\n",
    "                if not item.startswith('G'):\n",
    "                    item = 'G'+item\n",
    "                if 'P' in item.upper():\n",
    "                    pol = item.upper().replace('-','.')\n",
    "                else:\n",
    "                    cap = item.upper().replace('-','.')\n",
    "                    \n",
    "            new_match = \"{}_{}\".format(pol, cap)\n",
    "    if not pol and not cap:\n",
    "        if '.' in k:\n",
    "            new_match = k.replace('-','_')\n",
    "        else:\n",
    "            new_match = k.replace('-','.')\n",
    "    return new_match\n",
    "\n",
    "def filter_out_ones_with_no_dates_and_sort(genotypes):\n",
    "    \"\"\"only include records that have collection dates associated, \\\n",
    "    return sorted wrt most recent record (by mo and yr)\"\"\"\n",
    "    genotypes_w_dates = {}\n",
    "    \n",
    "    #genotypes is a dict with key as genotype \n",
    "    #value is a list of tuples of length 3 (record.description, collection.date, accession.id)\n",
    "    \n",
    "    for k in genotypes:\n",
    "        dated = [i for i in genotypes[k] if i[1]!='NA']\n",
    "        if dated:\n",
    "            genotypes_w_dates[k]=dated\n",
    "            \n",
    "    genotypes_w_fixed_dates = collections.defaultdict(list)\n",
    "    \n",
    "    for k in genotypes_w_dates:\n",
    "        new_dates = []\n",
    "        for desc, date, acc_id in genotypes_w_dates[k]:\n",
    "            \n",
    "            if '/' in date[0]:\n",
    "                date = date[0].split('/')[0]\n",
    "            if not type(date)==str:\n",
    "                date = date[0]\n",
    "            yourdate = dateutil.parser.parse(date)\n",
    "\n",
    "            genotypes_w_fixed_dates[k].append((acc_id, str(yourdate).split('-')[:2]))\n",
    "            \n",
    "    sorted_by_date = {}\n",
    "    \n",
    "    for k in genotypes_w_fixed_dates:\n",
    "        \n",
    "        sorted_by_date[k]= [i for i in sorted(genotypes_w_fixed_dates[k], key = lambda x : (int(x[1][0]), int(x[1][1])), reverse=True)]\n",
    "    \n",
    "    print len(sorted_by_date)\n",
    "\n",
    "    return sorted_by_date\n",
    "\n",
    "def when_regex_works(my_id, my_record, regex, g_dict, s_dict):\n",
    "    \"\"\"fix the formatting of the results, \\\n",
    "    add to genotype (defaultdict list) and seq dict (regular dict)\"\"\"\n",
    "    k = sort_out_match_format(regex[0])\n",
    "    g_dict[k].append((my_record.description, my_record.features[0].qualifiers.get('collection_date','NA'), my_id))\n",
    "    s_dict[my_id]=my_record.seq\n",
    "    \n",
    "def run_regex_search(my_record, on_what_you_ask):\n",
    "    \"\"\"run regex for genotype string search on genbank record return the result\"\"\"\n",
    "    genotype_match_str = \"[GP]+\\d{1,2}[^/]{1}G?P?\\w{1,3}\\.\\d+|G[IV]{1,3}.{1}P?\\d+.{1}G?P?\\w{1,3}\\.\\d+|G[IV]{1,3}\\.{1}\\d{1,2}|G[IV]{1,3}\\-{1}\\d{1,2}\"\n",
    "    return re.findall(genotype_match_str,on_what_you_ask)\n",
    "    \n",
    "\n",
    "    \n",
    "        "
   ]
  },
  {
   "cell_type": "code",
   "execution_count": 135,
   "metadata": {},
   "outputs": [
    {
     "name": "stdout",
     "output_type": "stream",
     "text": [
      "6413\n",
      "93\n"
     ]
    }
   ],
   "source": [
    "seq_dict = {}\n",
    "genotypes = collections.defaultdict(list)\n",
    "\n",
    "for record in SeqIO.parse(\"refs_from_genbank/all_genbank_norovirus_sequences.gb\", \"genbank\"):\n",
    "    if len(record)>500:\n",
    "\n",
    "        org = record.annotations['organism']\n",
    "\n",
    "        if 'Norovirus' in record.description or 'Norwalk' in record.description:\n",
    "            rematch = run_regex_search(record, org)\n",
    "            if rematch:\n",
    "                when_regex_works(record.id, record, rematch, genotypes, seq_dict)\n",
    "#                 print record.id\n",
    "            else:\n",
    "                rematch = run_regex_search(record, record.description)\n",
    "                if rematch:\n",
    "                    when_regex_works(record.id, record, rematch, genotypes, seq_dict)\n",
    "#                     print record.id\n",
    "\n",
    "                    \n",
    "print len(seq_dict)\n",
    "print len(genotypes)\n",
    "\n"
   ]
  },
  {
   "cell_type": "code",
   "execution_count": 106,
   "metadata": {},
   "outputs": [
    {
     "name": "stdout",
     "output_type": "stream",
     "text": [
      "3594\n"
     ]
    }
   ],
   "source": [
    "handle1 = Entrez.esearch(db=\"nucleotide\", \n",
    "                        term=\"Norovirus[Organism] AND (biomol_genomic[PROP] AND (500[SLEN]:90000[SLEN])\", \n",
    "                        idtype=\"acc\",\n",
    "                        retmax=11000)\n",
    "records = Entrez.read(handle1)\n",
    "new_record_ids = []\n",
    "for record in records[\"IdList\"]:\n",
    "    if record not in seq_dict:\n",
    "        new_record_ids.append(record)\n",
    "print len(new_record_ids)\n",
    "id_string = ','.join(new_record_ids)\n",
    "handle2 = Entrez.efetch(db=\"nucleotide\", \n",
    "                       id=id_string, \n",
    "                       rettype=\"gb\", \n",
    "                       retmode=\"text\")\n",
    "for record in SeqIO.parse(handle2, \"genbank\"):\n",
    "    \n",
    "    if len(record)>500:\n",
    "        \n",
    "        if 'Norovirus' in record.description or 'Norwalk' in record.description:\n",
    "            \n",
    "            org = record.annotations['organism']\n",
    "        \n",
    "            rematch = run_regex_search(record, org)\n",
    "            \n",
    "            if rematch:\n",
    "                when_regex_works(record, rematch, genotypes, seq_dict)\n",
    "                print record.id, '\\n' ,record.description\n",
    "            \n",
    "            else:\n",
    "                rematch = run_regex_search(record,record.description)\n",
    "                if rematch:\n",
    "                    when_regex_works(record, rematch, genotypes, seq_dict)\n",
    "                    print record.id, '\\n' ,record.description\n",
    "\n"
   ]
  },
  {
   "cell_type": "code",
   "execution_count": 136,
   "metadata": {},
   "outputs": [
    {
     "name": "stdout",
     "output_type": "stream",
     "text": [
      "90\n"
     ]
    }
   ],
   "source": [
    "my_sorted_genotype_dict_w_dates = filter_out_ones_with_no_dates_and_sort(genotypes)"
   ]
  },
  {
   "cell_type": "code",
   "execution_count": 146,
   "metadata": {},
   "outputs": [
    {
     "ename": "TypeError",
     "evalue": "unhashable type: 'dict'",
     "output_type": "error",
     "traceback": [
      "\u001b[0;31m---------------------------------------------------------------------------\u001b[0m",
      "\u001b[0;31mTypeError\u001b[0m                                 Traceback (most recent call last)",
      "\u001b[0;32m<ipython-input-146-c156880da32b>\u001b[0m in \u001b[0;36m<module>\u001b[0;34m()\u001b[0m\n\u001b[1;32m      8\u001b[0m     \u001b[0;32mfor\u001b[0m \u001b[0mk\u001b[0m \u001b[0;32min\u001b[0m \u001b[0mmy_sorted_genotype_dict_w_dates\u001b[0m\u001b[0;34m:\u001b[0m\u001b[0;34m\u001b[0m\u001b[0m\n\u001b[1;32m      9\u001b[0m         \u001b[0;32mif\u001b[0m \u001b[0mk\u001b[0m\u001b[0;34m.\u001b[0m\u001b[0mstartswith\u001b[0m\u001b[0;34m(\u001b[0m\u001b[0mi\u001b[0m\u001b[0;34m)\u001b[0m\u001b[0;34m:\u001b[0m\u001b[0;34m\u001b[0m\u001b[0m\n\u001b[0;32m---> 10\u001b[0;31m             \u001b[0mdict_dict\u001b[0m\u001b[0;34m[\u001b[0m\u001b[0md\u001b[0m\u001b[0;34m]\u001b[0m\u001b[0;34m+=\u001b[0m\u001b[0mk\u001b[0m\u001b[0;34m\u001b[0m\u001b[0m\n\u001b[0m\u001b[1;32m     11\u001b[0m \u001b[0;34m\u001b[0m\u001b[0m\n\u001b[1;32m     12\u001b[0m \u001b[0;34m\u001b[0m\u001b[0m\n",
      "\u001b[0;31mTypeError\u001b[0m: unhashable type: 'dict'"
     ]
    }
   ],
   "source": [
    "g1, g2, g3, g4, g5, g6 = {},{},{},{},{},{}\n",
    "\n",
    "dict_list = [g1, g2, g3, g4, g5, g6]\n",
    "genogroup_list = ['GI.','GII.','GIII.','GIV.','GV.','GVI.']\n",
    "dict_dict = {}\n",
    "for i, d in zip(genogroup_list, dict_list):\n",
    "#     dict_dict[d] = collections.defaultdict(list)\n",
    "    for k in my_sorted_genotype_dict_w_dates:\n",
    "        if k.startswith(i):\n",
    "            dict_dict[d]+=k\n",
    "\n",
    "\n",
    "# for k in my_sorted_genotype_dict_w_dates:\n",
    "#     print k, '\\t', len(my_sorted_genotype_dict_w_dates[k])\n",
    "#     for i, d in zip(genogroup_list, dict_list):\n",
    "#         if k.startswith(i):\n",
    "#             dict_list[d][k] = my_sorted_genotype_dict_w_dates[k]\n",
    "# #     for acc_id, date in my_sorted_genotype_dict_w_dates[k]:\n",
    "# #         print '\\t', acc_id, date, len(seq_dict[acc_id])\n",
    "for i in dict_dict:\n",
    "    print i\n",
    "    for j in dict_dict[i]:\n",
    "        print j"
   ]
  },
  {
   "cell_type": "markdown",
   "metadata": {},
   "source": [
    "# First Level"
   ]
  },
  {
   "cell_type": "code",
   "execution_count": 82,
   "metadata": {},
   "outputs": [
    {
     "name": "stdout",
     "output_type": "stream",
     "text": [
      "['GIV.1', 'GII.4_New_Orleans', 'GIV.2', 'GII.4_NSW001P', 'GII.12', 'GII.6a', 'GII.6c', 'GII.6b', 'GI.5a', 'GI.5b', 'GII.P22', 'GII.P20', 'GII.P21', 'GII.P7', 'GII.P6', 'GII.P5', 'GV.2', 'GII.P3', 'GII.P2', 'GII.P1', 'GII.P8', 'GIII.P3', 'GIII.P2', 'GIII.P1', 'GVII.', 'GII.4_Apeldoorn', 'GII.3b', 'GII.3c', 'GII.3a', 'GVII.P', 'GII.Pg', 'GII.Pf', 'GII.Pe', 'GII.Pc', 'GII.Pa', 'GII.11', 'GII.Pn', 'GII.Pm', 'GII.Pk', 'GII.Pj', 'GII.Ph', 'GIII.2', 'GIII.3', 'GIII.1', 'GI.3b', 'GI.3c', 'GI.3a', 'GI.3d', 'GV.1', 'GIV.P2', 'GI.8', 'GI.9', 'GI.2', 'GI.1', 'GI.4', 'GI.6a', 'GI.6b', 'GII.21', 'GII.20', 'GII.22', 'GII.18', 'GII.19', 'GII.10', 'GVI.P1', 'GVI.P2', 'GII.13', 'GII.14', 'GII.15', 'GII.16', 'GII.17', 'GII.8', 'GII.9', 'GI.Pf', 'GII.4', 'GI.Pd', 'GI.Pc', 'GI.Pb', 'GI.Pa', 'GII.1', 'GII.5', 'GII.2', 'GII.7', 'GII.P16', 'GII.P15', 'GII.P13', 'GII.P12', 'GII.P11', 'GII.P18', 'GI.P9', 'GI.P8', 'GI.P7', 'GI.P6', 'GI.P5', 'GI.P4', 'GI.P3', 'GI.P2', 'GI.P1', 'GV.P2', 'GV.P1', 'GI.7b', 'GI.7c', 'GI.7a', 'GII.4_Sydney', 'GVI.2', 'GVI.1']\n"
     ]
    }
   ],
   "source": [
    "first_level = {}\n",
    "\n",
    "for record in SeqIO.parse('refs_from_genbank/nt_seq_reference_genotypes_vinje_orf1.fa','fasta'):\n",
    "    first_level[record.id]=record.seq\n",
    "for record in SeqIO.parse('refs_from_genbank/nt_seq_reference_genotypes_vinje_orf2.fa','fasta'):\n",
    "    first_level[record.id]=record.seq\n",
    "    \n",
    "print first_level.keys()"
   ]
  },
  {
   "cell_type": "code",
   "execution_count": null,
   "metadata": {},
   "outputs": [],
   "source": [
    "#for each read align to a suite prototypic references using minimap2"
   ]
  },
  {
   "cell_type": "code",
   "execution_count": 84,
   "metadata": {},
   "outputs": [
    {
     "name": "stderr",
     "output_type": "stream",
     "text": [
      "Usage: minimap2 [options] <target.fa>|<target.idx> [query.fa] [...]\n",
      "Options:\n",
      "  Indexing:\n",
      "    -H           use homopolymer-compressed k-mer (preferrable for PacBio)\n",
      "    -k INT       k-mer size (no larger than 28) [15]\n",
      "    -w INT       minizer window size [10]\n",
      "    -I NUM       split index for every ~NUM input bases [4G]\n",
      "    -d FILE      dump index to FILE []\n",
      "  Mapping:\n",
      "    -f FLOAT     filter out top FLOAT fraction of repetitive minimizers [0.0002]\n",
      "    -g NUM       stop chain enlongation if there are no minimizers in INT-bp [5000]\n",
      "    -G NUM       max intron length (effective with -xsplice; changing -r) [200k]\n",
      "    -F NUM       max fragment length (effective with -xsr or in the fragment mode) [800]\n",
      "    -r NUM       bandwidth used in chaining and DP-based alignment [500]\n",
      "    -n INT       minimal number of minimizers on a chain [3]\n",
      "    -m INT       minimal chaining score (matching bases minus log gap penalty) [40]\n",
      "    -X           skip self and dual mappings (for the all-vs-all mode)\n",
      "    -p FLOAT     min secondary-to-primary score ratio [0.8]\n",
      "    -N INT       retain at most INT secondary alignments [5]\n",
      "  Alignment:\n",
      "    -A INT       matching score [2]\n",
      "    -B INT       mismatch penalty [4]\n",
      "    -O INT[,INT] gap open penalty [4,24]\n",
      "    -E INT[,INT] gap extension penalty; a k-long gap costs min{O1+k*E1,O2+k*E2} [2,1]\n",
      "    -z INT[,INT] Z-drop score and inversion Z-drop score [400,200]\n",
      "    -s INT       minimal peak DP alignment score [80]\n",
      "    -u CHAR      how to find GT-AG. f:transcript strand, b:both strands, n:don't match GT-AG [n]\n",
      "  Input/Output:\n",
      "    -a           output in the SAM format (PAF by default)\n",
      "    -Q           don't output base quality in SAM\n",
      "    -L           write CIGAR with >65535 ops at the CG tag\n",
      "    -R STR       SAM read group line in a format like '@RG\\tID:foo\\tSM:bar' []\n",
      "    -c           output CIGAR in PAF\n",
      "    --cs[=STR]   output the cs tag; STR is 'short' (if absent) or 'long' [none]\n",
      "    --MD         output the MD tag\n",
      "    --eqx        write =/X CIGAR operators\n",
      "    -Y           use soft clipping for supplementary alignments\n",
      "    -t INT       number of threads [3]\n",
      "    -K NUM       minibatch size for mapping [500M]\n",
      "    --version    show version number\n",
      "  Preset:\n",
      "    -x STR       preset (always applied before other options; see minimap2.1 for details) []\n",
      "                 - map-pb/map-ont: PacBio/Nanopore vs reference mapping\n",
      "                 - ava-pb/ava-ont: PacBio/Nanopore read overlap\n",
      "                 - asm5/asm10/asm20: asm-to-ref mapping, for ~0.1/1/5% sequence divergence\n",
      "                 - splice: long-read spliced alignment\n",
      "                 - sr: genomic short-read mapping\n",
      "\n",
      "See `man ./minimap2.1' for detailed description of command-line options.\n"
     ]
    }
   ],
   "source": [
    "%%bash\n",
    "\n",
    "for READ in SEQFILE; do\n",
    "    minimap2 "
   ]
  },
  {
   "cell_type": "code",
   "execution_count": null,
   "metadata": {},
   "outputs": [],
   "source": []
  },
  {
   "cell_type": "markdown",
   "metadata": {},
   "source": [
    "# Second Level"
   ]
  },
  {
   "cell_type": "code",
   "execution_count": null,
   "metadata": {},
   "outputs": [],
   "source": [
    "# Dynamically add confidence as more reads are assigned to a particular genotype\n",
    "# more confidence if from one barcode the reads are being assigned to a single genotype in a particular location \n",
    "# less confidence if there is variance in best alignments"
   ]
  },
  {
   "cell_type": "markdown",
   "metadata": {},
   "source": [
    "# De novo assembly"
   ]
  },
  {
   "cell_type": "markdown",
   "metadata": {},
   "source": [
    "Using spades? "
   ]
  },
  {
   "cell_type": "code",
   "execution_count": null,
   "metadata": {},
   "outputs": [],
   "source": []
  },
  {
   "cell_type": "code",
   "execution_count": null,
   "metadata": {},
   "outputs": [],
   "source": []
  }
 ],
 "metadata": {
  "kernelspec": {
   "display_name": "Python 2",
   "language": "python",
   "name": "python2"
  },
  "language_info": {
   "codemirror_mode": {
    "name": "ipython",
    "version": 2
   },
   "file_extension": ".py",
   "mimetype": "text/x-python",
   "name": "python",
   "nbconvert_exporter": "python",
   "pygments_lexer": "ipython2",
   "version": "2.7.15"
  }
 },
 "nbformat": 4,
 "nbformat_minor": 2
}
